{
 "cells": [
  {
   "cell_type": "code",
   "execution_count": 18,
   "metadata": {
    "collapsed": false,
    "deletable": true,
    "editable": true
   },
   "outputs": [
    {
     "name": "stdout",
     "output_type": "stream",
     "text": [
      "* * * * * \n",
      " * * * * \n",
      "  * * * \n",
      "   * * \n",
      "    * \n"
     ]
    }
   ],
   "source": [
    "line = '* '\n",
    "for i in range(1, 6):\n",
    "    print((i-1)*' ' + line*(6-i), end='')\n",
    "    print()"
   ]
  },
  {
   "cell_type": "code",
   "execution_count": 52,
   "metadata": {
    "collapsed": false,
    "deletable": true,
    "editable": true
   },
   "outputs": [
    {
     "name": "stdout",
     "output_type": "stream",
     "text": [
      "33\n",
      "33\n"
     ]
    }
   ],
   "source": [
    "def addl(n):\n",
    "    i=0\n",
    "    total=0\n",
    "    k=1\n",
    "    for i in range(1,n+1):\n",
    "        k=k*i\n",
    "        total=total+k\n",
    "    print(total)\n",
    "    \n",
    "def digui(n):\n",
    "    sum = 0\n",
    "    if n<=0:\n",
    "        return 1\n",
    "    else:\n",
    "        return n*digui(n-1)\n",
    "\n",
    "\n",
    "def main():\n",
    "    n=4\n",
    "    total=0\n",
    "    while n>=1:\n",
    "        total=total+digui(n)\n",
    "        n=n-1\n",
    "    print(total)\n",
    "    \n",
    "main()\n",
    "\n",
    "n=4\n",
    "addl(n)"
   ]
  },
  {
   "cell_type": "code",
   "execution_count": null,
   "metadata": {
    "collapsed": true,
    "deletable": true,
    "editable": true
   },
   "outputs": [],
   "source": [
    "import random\n",
    "n=5         \n",
    "l=list(range(0,10))\n",
    "for x in range (65,72) :\n",
    "    l.append(chr(x))\n",
    "for x in range (74,78) :\n",
    "    l.append(chr(x))\n",
    "for x in range (80,90) :\n",
    "    l.append(chr(x))\n",
    "key=''\n",
    "for i in range(n):\n",
    "    key=key+str(random.choice(l))\n",
    "print('密码是：'+ key)"
   ]
  }
 ],
 "metadata": {
  "kernelspec": {
   "display_name": "Python 3",
   "language": "python",
   "name": "python3"
  },
  "language_info": {
   "codemirror_mode": {
    "name": "ipython",
    "version": 3
   },
   "file_extension": ".py",
   "mimetype": "text/x-python",
   "name": "python",
   "nbconvert_exporter": "python",
   "pygments_lexer": "ipython3",
   "version": "3.6.0"
  }
 },
 "nbformat": 4,
 "nbformat_minor": 2
}
